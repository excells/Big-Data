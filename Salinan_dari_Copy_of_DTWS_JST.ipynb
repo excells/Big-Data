{
  "nbformat": 4,
  "nbformat_minor": 0,
  "metadata": {
    "colab": {
      "name": "Salinan dari Copy of DTWS-JST",
      "provenance": [],
      "collapsed_sections": []
    },
    "kernelspec": {
      "name": "python3",
      "display_name": "Python 3"
    },
    "accelerator": "GPU"
  },
  "cells": [
    {
      "cell_type": "code",
      "metadata": {
        "id": "qC_VL6_kbhMF",
        "colab": {
          "base_uri": "https://localhost:8080/"
        },
        "outputId": "a2a52d1a-8220-4c1b-87a7-89af1c6a04ab"
      },
      "source": [
        "import tensorflow as tf\n",
        "from tensorflow import keras\n",
        "from tensorflow.keras.layers import Dense, Flatten\n",
        "import numpy as np\n",
        "import matplotlib.pyplot as plt\n",
        "\n",
        "print(tf.__version__)"
      ],
      "execution_count": 1,
      "outputs": [
        {
          "output_type": "stream",
          "name": "stdout",
          "text": [
            "2.6.0\n"
          ]
        }
      ]
    },
    {
      "cell_type": "markdown",
      "metadata": {
        "id": "2ALle1VvQ2u1"
      },
      "source": [
        "# Get The Dataset\n",
        "Dataset di download dari repository Google.\n",
        "- Variabel `train_images` merupakan numpy array yang menyimpan data latih. Data latih terdiri dari 60,000 citra hitam putih berukuran 28x28.\n",
        "- Variabel `test_images` merupakan numpy array yang menyimpan data uji. Data uji terdiri dari 10,000 citra hitam putih berukuran 28x28.\n"
      ]
    },
    {
      "cell_type": "code",
      "metadata": {
        "id": "dl3dLqxibo-W",
        "colab": {
          "base_uri": "https://localhost:8080/"
        },
        "outputId": "564514b4-5876-4840-eea2-40b5e38dc085"
      },
      "source": [
        "(train_images, train_labels), (test_images, test_labels) = keras.datasets.mnist.load_data()"
      ],
      "execution_count": 2,
      "outputs": [
        {
          "output_type": "stream",
          "name": "stdout",
          "text": [
            "Downloading data from https://storage.googleapis.com/tensorflow/tf-keras-datasets/mnist.npz\n",
            "11493376/11490434 [==============================] - 0s 0us/step\n",
            "11501568/11490434 [==============================] - 0s 0us/step\n"
          ]
        }
      ]
    },
    {
      "cell_type": "code",
      "metadata": {
        "id": "6f_HagwiQZAW",
        "colab": {
          "base_uri": "https://localhost:8080/"
        },
        "outputId": "2650832a-b2ae-46ec-f7f1-8cb152433eef"
      },
      "source": [
        "print(type(train_images))\n",
        "print(train_images.shape)\n",
        "print(train_labels.shape)\n",
        "\n",
        "print(type(test_images))\n",
        "print(test_images.shape)\n",
        "print(test_labels.shape)"
      ],
      "execution_count": 4,
      "outputs": [
        {
          "output_type": "stream",
          "name": "stdout",
          "text": [
            "<class 'numpy.ndarray'>\n",
            "(60000, 28, 28)\n",
            "(60000,)\n",
            "<class 'numpy.ndarray'>\n",
            "(10000, 28, 28)\n",
            "(10000,)\n"
          ]
        }
      ]
    },
    {
      "cell_type": "markdown",
      "metadata": {
        "id": "JGBi3zm1RtF-"
      },
      "source": [
        "# Lihat Dataset\n",
        "program di bawah menampilkan dataset pertama (`train_images[0]`). Tampak data citra memiliki nilai pada rentangan antara 0-255."
      ]
    },
    {
      "cell_type": "code",
      "metadata": {
        "id": "iIMQY8JdQc_E",
        "colab": {
          "base_uri": "https://localhost:8080/",
          "height": 282
        },
        "outputId": "47c53219-a04b-4d24-a7ff-f3820bf5c737"
      },
      "source": [
        "plt.figure()\n",
        "plt.imshow(train_images[0], cmap=\"gray\")\n",
        "plt.colorbar()\n",
        "plt.show()\n",
        "\n",
        "print(\"Label:\",train_labels[0])"
      ],
      "execution_count": 5,
      "outputs": [
        {
          "output_type": "display_data",
          "data": {
            "image/png": "[encoded data removed]",
            "text/plain": [
              "<Figure size 432x288 with 2 Axes>"
            ]
          },
          "metadata": {
            "needs_background": "light"
          }
        },
        {
          "output_type": "stream",
          "name": "stdout",
          "text": [
            "Label: 5\n"
          ]
        }
      ]
    },
    {
      "cell_type": "markdown",
      "metadata": {
        "id": "uRiuxgfFv_hT"
      },
      "source": [
        "# Membuat model Jaringan Saraf Tiruan\n",
        "\n",
        "Model JST yang dibuat menggunakan framework keras dengan spesifikasi:\n",
        "- 1 buah hidden layer dengan 128 neuron\n",
        "- neuron menggunakan fungsi aktivasi ReLU"
      ]
    },
    {
      "cell_type": "code",
      "metadata": {
        "id": "acHoACe9v_gJ"
      },
      "source": [
        "model = keras.Sequential([\n",
        "    Flatten(input_shape=(28, 28)),\n",
        "    Dense(128, activation='relu'),\n",
        "    Dense(15, activation='softmax')\n",
        "])"
      ],
      "execution_count": 6,
      "outputs": []
    },
    {
      "cell_type": "code",
      "metadata": {
        "id": "t5eiglZYT6eY"
      },
      "source": [
        "model.compile(optimizer=keras.optimizers.SGD(learning_rate=0.001),\n",
        "              loss=keras.losses.SparseCategoricalCrossentropy(),\n",
        "              metrics=['accuracy'])"
      ],
      "execution_count": 7,
      "outputs": []
    },
    {
      "cell_type": "markdown",
      "metadata": {
        "id": "jgrUZt-LW3Y6"
      },
      "source": [
        "# Mulai Pelatihan"
      ]
    },
    {
      "cell_type": "code",
      "metadata": {
        "id": "auvPeLA8UTi_",
        "colab": {
          "base_uri": "https://localhost:8080/"
        },
        "outputId": "f485a180-3275-40d9-d8fd-902f9306beab"
      },
      "source": [
        "model.fit(train_images, train_labels, epochs=10)"
      ],
      "execution_count": null,
      "outputs": [
        {
          "output_type": "stream",
          "name": "stdout",
          "text": [
            "Epoch 1/10\n",
            "1875/1875 [==============================] - 7s 2ms/step - loss: 1.5378 - accuracy: 0.8077\n",
            "Epoch 2/10\n",
            "1875/1875 [==============================] - 4s 2ms/step - loss: 0.4175 - accuracy: 0.8951\n",
            "Epoch 3/10\n",
            "1875/1875 [==============================] - 4s 2ms/step - loss: 0.3223 - accuracy: 0.9147\n",
            "Epoch 4/10\n",
            "1875/1875 [==============================] - 4s 2ms/step - loss: 0.2741 - accuracy: 0.9254\n",
            "Epoch 5/10\n",
            "1875/1875 [==============================] - 4s 2ms/step - loss: 0.2448 - accuracy: 0.9323\n",
            "Epoch 6/10\n",
            "1875/1875 [==============================] - 4s 2ms/step - loss: 0.2224 - accuracy: 0.9377\n",
            "Epoch 7/10\n",
            "1875/1875 [==============================] - 4s 2ms/step - loss: 0.2066 - accuracy: 0.9412\n",
            "Epoch 8/10\n",
            "1875/1875 [==============================] - 4s 2ms/step - loss: 0.1925 - accuracy: 0.9454\n",
            "Epoch 9/10\n",
            "1875/1875 [==============================] - 4s 2ms/step - loss: 0.1816 - accuracy: 0.9495\n",
            "Epoch 10/10\n",
            "1013/1875 [===============>..............] - ETA: 1s - loss: 0.1740 - accuracy: 0.9489"
          ]
        }
      ]
    },
    {
      "cell_type": "markdown",
      "metadata": {
        "id": "TNnGwdB6X4hR"
      },
      "source": [
        "# Prediksi Kelas Data Test"
      ]
    },
    {
      "cell_type": "code",
      "metadata": {
        "id": "MZE1J_i-W5Fc",
        "colab": {
          "base_uri": "https://localhost:8080/",
          "height": 229
        },
        "outputId": "ffa77951-f624-46f9-8a13-a25f061c51e5"
      },
      "source": [
        "classes = model.predict_classes(test_images)\n",
        "\n",
        "# Hitung akurasi = total kelas yang benar / total kelas keseluruhan * 100%\n",
        "accuration = np.sum(classes == test_labels)/len(test_labels) * 100\n",
        "\n",
        "print(\"Test Accuration : \" + str(accuration) + '%')\n",
        "print(\"Prediction :\")\n",
        "print(classes)\n",
        "print(\"Label Harusnya :\")\n",
        "print(np.asarray(test_labels))"
      ],
      "execution_count": null,
      "outputs": [
        {
          "output_type": "error",
          "ename": "AttributeError",
          "evalue": "ignored",
          "traceback": [
            "\u001b[0;31m---------------------------------------------------------------------------\u001b[0m",
            "\u001b[0;31mAttributeError\u001b[0m                            Traceback (most recent call last)",
            "\u001b[0;32m<ipython-input-10-02ebb7960175>\u001b[0m in \u001b[0;36m<module>\u001b[0;34m()\u001b[0m\n\u001b[0;32m----> 1\u001b[0;31m \u001b[0mclasses\u001b[0m \u001b[0;34m=\u001b[0m \u001b[0mmodel\u001b[0m\u001b[0;34m.\u001b[0m\u001b[0mpredict_classes\u001b[0m\u001b[0;34m(\u001b[0m\u001b[0mtest_images\u001b[0m\u001b[0;34m)\u001b[0m\u001b[0;34m\u001b[0m\u001b[0;34m\u001b[0m\u001b[0m\n\u001b[0m\u001b[1;32m      2\u001b[0m \u001b[0;34m\u001b[0m\u001b[0m\n\u001b[1;32m      3\u001b[0m \u001b[0;31m# Hitung akurasi = total kelas yang benar / total kelas keseluruhan * 100%\u001b[0m\u001b[0;34m\u001b[0m\u001b[0;34m\u001b[0m\u001b[0;34m\u001b[0m\u001b[0m\n\u001b[1;32m      4\u001b[0m \u001b[0maccuration\u001b[0m \u001b[0;34m=\u001b[0m \u001b[0mnp\u001b[0m\u001b[0;34m.\u001b[0m\u001b[0msum\u001b[0m\u001b[0;34m(\u001b[0m\u001b[0mclasses\u001b[0m \u001b[0;34m==\u001b[0m \u001b[0mtest_labels\u001b[0m\u001b[0;34m)\u001b[0m\u001b[0;34m/\u001b[0m\u001b[0mlen\u001b[0m\u001b[0;34m(\u001b[0m\u001b[0mtest_labels\u001b[0m\u001b[0;34m)\u001b[0m \u001b[0;34m*\u001b[0m \u001b[0;36m100\u001b[0m\u001b[0;34m\u001b[0m\u001b[0;34m\u001b[0m\u001b[0m\n\u001b[1;32m      5\u001b[0m \u001b[0;34m\u001b[0m\u001b[0m\n",
            "\u001b[0;31mAttributeError\u001b[0m: 'Sequential' object has no attribute 'predict_classes'"
          ]
        }
      ]
    },
    {
      "cell_type": "code",
      "metadata": {
        "id": "NdcYjj-MYKHg"
      },
      "source": [
        ""
      ],
      "execution_count": null,
      "outputs": []
    }
  ]
}